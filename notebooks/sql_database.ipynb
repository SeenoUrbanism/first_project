{
 "cells": [
  {
   "cell_type": "code",
   "execution_count": 2,
   "id": "5dc57820",
   "metadata": {},
   "outputs": [],
   "source": [
    "# <-- Import libraries, custom functions, and load configuration & datasets <--\n",
    "\n",
    "import yaml\n",
    "\n",
    "import pandas as pd\n",
    "import numpy as np\n",
    "import datetime as dt\n",
    "import re\n",
    "\n",
    "# <-- Imports custom preprocessing functions from 'functions.py' <--\n",
    "\n",
    "from functions import (drop_duplicates,\n",
    "                       concat_dataframes,\n",
    "                       remove_all_punctuation,\n",
    "                       drop_irrelevant_columns,\n",
    "                       standardize_column_names,\n",
    "                       filter_by_regex_pattern,\n",
    "                       standardize_dates\n",
    "                       )\n",
    "\n",
    "# <-- Loads YAML configuration to dynamically reference CSV output files. <--\n",
    "\n",
    "config = None  # <-- Initialize config\n",
    "try:\n",
    "    with open(\"../config.yaml\", \"r\") as file:\n",
    "        config = yaml.safe_load(file)\n",
    "except:\n",
    "    print(\"Yaml configuration file not found!\")\n",
    "config\n",
    "\n",
    "job_nyc1 = pd.read_csv(config['input_data']['file1'])\n",
    "job_nyc2 = pd.read_csv(config['input_data']['file2'])"
   ]
  },
  {
   "cell_type": "code",
   "execution_count": 3,
   "id": "915423cc",
   "metadata": {},
   "outputs": [],
   "source": [
    "df_merged = concat_dataframes(job_nyc1,job_nyc2)"
   ]
  },
  {
   "cell_type": "code",
   "execution_count": 4,
   "id": "fa9914d5",
   "metadata": {},
   "outputs": [],
   "source": [
    "df_merged = standardize_column_names(df_merged) "
   ]
  },
  {
   "cell_type": "code",
   "execution_count": 5,
   "id": "10c257d1",
   "metadata": {},
   "outputs": [],
   "source": [
    "df_merged = drop_duplicates(df_merged,'job_id')"
   ]
  },
  {
   "cell_type": "code",
   "execution_count": 6,
   "id": "3984d523",
   "metadata": {},
   "outputs": [],
   "source": [
    "columns = ['job_id', 'posting_type', 'civil_service_title', 'title_classification', \n",
    "'title_code_no', 'full-time/part-time_indicator', 'work_location', 'division/work_unit',\n",
    "'job_description', 'minimum_qual_requirements', 'additional_information', 'to_apply', \n",
    "'hours/shift', 'work_location_1', 'recruitment_contact', 'residency_requirement', 'posting_updated',\n",
    "'process_date']\n",
    "\n",
    "df_merged = drop_irrelevant_columns(df_merged, columns)"
   ]
  },
  {
   "cell_type": "code",
   "execution_count": 7,
   "id": "aafee6a9",
   "metadata": {},
   "outputs": [
    {
     "data": {
      "text/plain": [
       "['agency',\n",
       " 'business_title',\n",
       " 'level',\n",
       " 'job_category',\n",
       " 'career_level',\n",
       " 'salary_frequency',\n",
       " 'preferred_skills',\n",
       " 'posting_date',\n",
       " 'post_until']"
      ]
     },
     "execution_count": 7,
     "metadata": {},
     "output_type": "execute_result"
    }
   ],
   "source": [
    "cat_cols = list(df_merged.select_dtypes(include=['object']))\n",
    "cat_cols"
   ]
  },
  {
   "cell_type": "code",
   "execution_count": 8,
   "id": "d3acbbe8",
   "metadata": {},
   "outputs": [],
   "source": [
    "cat_cols = ['agency',\n",
    " 'business_title',\n",
    " 'level',\n",
    " 'job_category',\n",
    " 'career_level',\n",
    " 'salary_frequency',\n",
    " 'preferred_skills']\n",
    " \n",
    "df_merged = remove_all_punctuation(df_merged,cat_cols)"
   ]
  },
  {
   "cell_type": "code",
   "execution_count": 9,
   "id": "1a4de407",
   "metadata": {},
   "outputs": [
    {
     "name": "stderr",
     "output_type": "stream",
     "text": [
      "d:\\vscode101\\first_project\\notebooks\\functions.py:51: UserWarning: Could not infer format, so each element will be parsed individually, falling back to `dateutil`. To ensure parsing is consistent and as-expected, please specify a format.\n",
      "  df[col] = pd.to_datetime(df[col], errors='coerce', dayfirst=True)\n"
     ]
    }
   ],
   "source": [
    "date_cols = ['posting_date', 'post_until']\n",
    "df_merged = standardize_dates(df_merged,date_cols)"
   ]
  },
  {
   "cell_type": "code",
   "execution_count": 10,
   "id": "726b5ad3",
   "metadata": {},
   "outputs": [
    {
     "data": {
      "text/html": [
       "<div>\n",
       "<style scoped>\n",
       "    .dataframe tbody tr th:only-of-type {\n",
       "        vertical-align: middle;\n",
       "    }\n",
       "\n",
       "    .dataframe tbody tr th {\n",
       "        vertical-align: top;\n",
       "    }\n",
       "\n",
       "    .dataframe thead th {\n",
       "        text-align: right;\n",
       "    }\n",
       "</style>\n",
       "<table border=\"1\" class=\"dataframe\">\n",
       "  <thead>\n",
       "    <tr style=\"text-align: right;\">\n",
       "      <th></th>\n",
       "      <th>preferred_skills</th>\n",
       "      <th>job_category</th>\n",
       "      <th>career_level</th>\n",
       "    </tr>\n",
       "  </thead>\n",
       "  <tbody>\n",
       "    <tr>\n",
       "      <th>0</th>\n",
       "      <td>must have a valid pe license</td>\n",
       "      <td>engineering architecture planning</td>\n",
       "      <td>experienced nonmanager</td>\n",
       "    </tr>\n",
       "    <tr>\n",
       "      <th>1</th>\n",
       "      <td>student must currently be enrolled at a colleg...</td>\n",
       "      <td>engineering architecture planning</td>\n",
       "      <td>student</td>\n",
       "    </tr>\n",
       "    <tr>\n",
       "      <th>2</th>\n",
       "      <td>NaN</td>\n",
       "      <td>communications intergovernmental affairs techn...</td>\n",
       "      <td>experienced nonmanager</td>\n",
       "    </tr>\n",
       "    <tr>\n",
       "      <th>3</th>\n",
       "      <td>a baccalaureate degree from an accredited coll...</td>\n",
       "      <td>engineering architecture planning</td>\n",
       "      <td>experienced nonmanager</td>\n",
       "    </tr>\n",
       "    <tr>\n",
       "      <th>4</th>\n",
       "      <td>preference will be given to candidates with at...</td>\n",
       "      <td>engineering architecture planning</td>\n",
       "      <td>manager</td>\n",
       "    </tr>\n",
       "    <tr>\n",
       "      <th>...</th>\n",
       "      <td>...</td>\n",
       "      <td>...</td>\n",
       "      <td>...</td>\n",
       "    </tr>\n",
       "    <tr>\n",
       "      <th>10906</th>\n",
       "      <td>NaN</td>\n",
       "      <td>administration human resources</td>\n",
       "      <td>experienced nonmanager</td>\n",
       "    </tr>\n",
       "    <tr>\n",
       "      <th>10957</th>\n",
       "      <td>NaN</td>\n",
       "      <td>engineering architecture planning public safet...</td>\n",
       "      <td>experienced nonmanager</td>\n",
       "    </tr>\n",
       "    <tr>\n",
       "      <th>10961</th>\n",
       "      <td>NaN</td>\n",
       "      <td>communications intergovernmental affairs</td>\n",
       "      <td>manager</td>\n",
       "    </tr>\n",
       "    <tr>\n",
       "      <th>11037</th>\n",
       "      <td>NaN</td>\n",
       "      <td>communications intergovernmental affairs</td>\n",
       "      <td>manager</td>\n",
       "    </tr>\n",
       "    <tr>\n",
       "      <th>11047</th>\n",
       "      <td>very strong preference given to candidates dem...</td>\n",
       "      <td>constituent services community programs engine...</td>\n",
       "      <td>experienced nonmanager</td>\n",
       "    </tr>\n",
       "  </tbody>\n",
       "</table>\n",
       "<p>5271 rows × 3 columns</p>\n",
       "</div>"
      ],
      "text/plain": [
       "                                        preferred_skills  \\\n",
       "0                           must have a valid pe license   \n",
       "1      student must currently be enrolled at a colleg...   \n",
       "2                                                    NaN   \n",
       "3      a baccalaureate degree from an accredited coll...   \n",
       "4      preference will be given to candidates with at...   \n",
       "...                                                  ...   \n",
       "10906                                                NaN   \n",
       "10957                                                NaN   \n",
       "10961                                                NaN   \n",
       "11037                                                NaN   \n",
       "11047  very strong preference given to candidates dem...   \n",
       "\n",
       "                                            job_category  \\\n",
       "0                      engineering architecture planning   \n",
       "1                      engineering architecture planning   \n",
       "2      communications intergovernmental affairs techn...   \n",
       "3                      engineering architecture planning   \n",
       "4                      engineering architecture planning   \n",
       "...                                                  ...   \n",
       "10906                     administration human resources   \n",
       "10957  engineering architecture planning public safet...   \n",
       "10961           communications intergovernmental affairs   \n",
       "11037           communications intergovernmental affairs   \n",
       "11047  constituent services community programs engine...   \n",
       "\n",
       "                 career_level  \n",
       "0      experienced nonmanager  \n",
       "1                     student  \n",
       "2      experienced nonmanager  \n",
       "3      experienced nonmanager  \n",
       "4                     manager  \n",
       "...                       ...  \n",
       "10906  experienced nonmanager  \n",
       "10957  experienced nonmanager  \n",
       "10961                 manager  \n",
       "11037                 manager  \n",
       "11047  experienced nonmanager  \n",
       "\n",
       "[5271 rows x 3 columns]"
      ]
     },
     "execution_count": 10,
     "metadata": {},
     "output_type": "execute_result"
    }
   ],
   "source": [
    "df_merged[['preferred_skills','job_category','career_level']]"
   ]
  },
  {
   "cell_type": "code",
   "execution_count": 11,
   "id": "6e5a917f",
   "metadata": {},
   "outputs": [
    {
     "data": {
      "text/html": [
       "<div>\n",
       "<style scoped>\n",
       "    .dataframe tbody tr th:only-of-type {\n",
       "        vertical-align: middle;\n",
       "    }\n",
       "\n",
       "    .dataframe tbody tr th {\n",
       "        vertical-align: top;\n",
       "    }\n",
       "\n",
       "    .dataframe thead th {\n",
       "        text-align: right;\n",
       "    }\n",
       "</style>\n",
       "<table border=\"1\" class=\"dataframe\">\n",
       "  <thead>\n",
       "    <tr style=\"text-align: right;\">\n",
       "      <th></th>\n",
       "      <th>column</th>\n",
       "      <th>nunique</th>\n",
       "    </tr>\n",
       "  </thead>\n",
       "  <tbody>\n",
       "    <tr>\n",
       "      <th>0</th>\n",
       "      <td>agency</td>\n",
       "      <td>67</td>\n",
       "    </tr>\n",
       "    <tr>\n",
       "      <th>1</th>\n",
       "      <td>business_title</td>\n",
       "      <td>3180</td>\n",
       "    </tr>\n",
       "    <tr>\n",
       "      <th>2</th>\n",
       "      <td>level</td>\n",
       "      <td>20</td>\n",
       "    </tr>\n",
       "    <tr>\n",
       "      <th>3</th>\n",
       "      <td>job_category</td>\n",
       "      <td>254</td>\n",
       "    </tr>\n",
       "    <tr>\n",
       "      <th>4</th>\n",
       "      <td>career_level</td>\n",
       "      <td>5</td>\n",
       "    </tr>\n",
       "    <tr>\n",
       "      <th>5</th>\n",
       "      <td>salary_frequency</td>\n",
       "      <td>3</td>\n",
       "    </tr>\n",
       "    <tr>\n",
       "      <th>6</th>\n",
       "      <td>preferred_skills</td>\n",
       "      <td>2527</td>\n",
       "    </tr>\n",
       "  </tbody>\n",
       "</table>\n",
       "</div>"
      ],
      "text/plain": [
       "             column  nunique\n",
       "0            agency       67\n",
       "1    business_title     3180\n",
       "2             level       20\n",
       "3      job_category      254\n",
       "4      career_level        5\n",
       "5  salary_frequency        3\n",
       "6  preferred_skills     2527"
      ]
     },
     "execution_count": 11,
     "metadata": {},
     "output_type": "execute_result"
    }
   ],
   "source": [
    "nunique_df = pd.DataFrame({\n",
    "    'column': cat_cols,\n",
    "    'nunique': [df_merged[col].nunique() for col in cat_cols]\n",
    "})\n",
    "\n",
    "nunique_df"
   ]
  },
  {
   "cell_type": "code",
   "execution_count": 12,
   "id": "7f35563b",
   "metadata": {},
   "outputs": [
    {
     "data": {
      "text/plain": [
       "array(['dept of environment protection', 'bronx district attorney',\n",
       "       'office of criminal justice', 'dept of design construction',\n",
       "       'department of transportation', 'nyc housing authority',\n",
       "       'dept of healthmental hygiene', 'nyc employees retirement sys',\n",
       "       'housing preservation dvlpmnt', 'hradept of social services',\n",
       "       'consumer and worker protection', 'dept of parks recreation',\n",
       "       'law department', 'district attorney kings county',\n",
       "       'dept of homeless services', 'department of correction',\n",
       "       'nyc police pension fund', 'office of the comptroller',\n",
       "       'office of emergency management', 'department of finance',\n",
       "       'manhattan community board 12', 'admin for childrens svcs',\n",
       "       'office of management budget', 'campaign finance board',\n",
       "       'district attorneymanhattan', 'police department',\n",
       "       'department of city planning', 'taxi limousine commission',\n",
       "       'off of payroll administration', 'borough presidentbronx',\n",
       "       'human rights commission', 'financial info svcs agency',\n",
       "       'admin trials and hearings', 'department for the aging',\n",
       "       'district attorney richmond cou', 'dept of citywide admin svcs',\n",
       "       'department of probation', 'dept of records info service',\n",
       "       'fire department', 'department of investigation',\n",
       "       'dept of youth comm dev srvs', 'department of sanitation',\n",
       "       'tax commission', 'mayors office of contract svcs',\n",
       "       'department of buildings', 'office of labor relations',\n",
       "       'business integrity commission', 'department of business serv',\n",
       "       'board of correction', 'civilian complaint review bd',\n",
       "       'public administratornew york', 'office of racial equity',\n",
       "       'technology innovation', 'office of the mayor',\n",
       "       'bronx community board 5', 'bronx community board 8',\n",
       "       'nyc dept of veterans services', 'borough presidentbrooklyn',\n",
       "       'bronx community board 7', 'manhattan community board 7',\n",
       "       'bronx community board 4', 'equal employ practices comm',\n",
       "       'manhattan community board 8', 'landmarks preservation comm',\n",
       "       'nyc fire pension fund', 'conflicts of interest board',\n",
       "       'manhattan community board 3'], dtype=object)"
      ]
     },
     "execution_count": 12,
     "metadata": {},
     "output_type": "execute_result"
    }
   ],
   "source": [
    "df_merged['agency'].unique()"
   ]
  },
  {
   "cell_type": "code",
   "execution_count": 20,
   "id": "2987c22f",
   "metadata": {},
   "outputs": [
    {
     "data": {
      "text/plain": [
       "['00',\n",
       " '01',\n",
       " '02',\n",
       " '03',\n",
       " '04',\n",
       " '1a',\n",
       " '1b',\n",
       " '3a',\n",
       " '3b',\n",
       " '4a',\n",
       " '4b',\n",
       " 'm1',\n",
       " 'm2',\n",
       " 'm3',\n",
       " 'm4',\n",
       " 'm5',\n",
       " 'm6',\n",
       " 'm7',\n",
       " 'm8',\n",
       " 'my']"
      ]
     },
     "execution_count": 20,
     "metadata": {},
     "output_type": "execute_result"
    }
   ],
   "source": [
    "sorted(df_merged['level'].unique())"
   ]
  },
  {
   "cell_type": "code",
   "execution_count": 14,
   "id": "746352a0",
   "metadata": {},
   "outputs": [
    {
     "data": {
      "text/plain": [
       "array(['experienced nonmanager', 'student', 'manager', 'entrylevel',\n",
       "       'executive'], dtype=object)"
      ]
     },
     "execution_count": 14,
     "metadata": {},
     "output_type": "execute_result"
    }
   ],
   "source": [
    "df_merged['career_level'].unique()"
   ]
  },
  {
   "cell_type": "code",
   "execution_count": 15,
   "id": "6dc28132",
   "metadata": {},
   "outputs": [
    {
     "data": {
      "text/plain": [
       "array(['annual', 'hourly', 'daily'], dtype=object)"
      ]
     },
     "execution_count": 15,
     "metadata": {},
     "output_type": "execute_result"
    }
   ],
   "source": [
    "df_merged['salary_frequency'].unique()"
   ]
  },
  {
   "cell_type": "code",
   "execution_count": 16,
   "id": "2d809cab",
   "metadata": {},
   "outputs": [
    {
     "data": {
      "text/plain": [
       "np.float64(293038.0)"
      ]
     },
     "execution_count": 16,
     "metadata": {},
     "output_type": "execute_result"
    }
   ],
   "source": [
    "# Remove negative salaries\n",
    "df_merged[(df_merged['salary_range_from'] <= 0) | (df_merged['salary_range_to'] <= 0)]\n",
    "df_merged['salary_range_to'].max()\n",
    "# df_data_analyst = df_data_analyst[(df_data_analyst['salary_range_from'] >= 0) & (df_data_analyst['salary_range_to'] >= 0)]\n",
    "# df_keywords = df_keywords[(df_keywords['salary_range_from'] >= 0) & (df_keywords['salary_range_to'] >= 0)]"
   ]
  },
  {
   "cell_type": "code",
   "execution_count": 17,
   "id": "c5dcfe65",
   "metadata": {},
   "outputs": [
    {
     "data": {
      "text/html": [
       "<div>\n",
       "<style scoped>\n",
       "    .dataframe tbody tr th:only-of-type {\n",
       "        vertical-align: middle;\n",
       "    }\n",
       "\n",
       "    .dataframe tbody tr th {\n",
       "        vertical-align: top;\n",
       "    }\n",
       "\n",
       "    .dataframe thead th {\n",
       "        text-align: right;\n",
       "    }\n",
       "</style>\n",
       "<table border=\"1\" class=\"dataframe\">\n",
       "  <thead>\n",
       "    <tr style=\"text-align: right;\">\n",
       "      <th></th>\n",
       "      <th>non_nulls</th>\n",
       "      <th>nulls</th>\n",
       "      <th>total</th>\n",
       "    </tr>\n",
       "  </thead>\n",
       "  <tbody>\n",
       "    <tr>\n",
       "      <th>agency</th>\n",
       "      <td>5271</td>\n",
       "      <td>0</td>\n",
       "      <td>5271</td>\n",
       "    </tr>\n",
       "    <tr>\n",
       "      <th>#_of_positions</th>\n",
       "      <td>5271</td>\n",
       "      <td>0</td>\n",
       "      <td>5271</td>\n",
       "    </tr>\n",
       "    <tr>\n",
       "      <th>business_title</th>\n",
       "      <td>5271</td>\n",
       "      <td>0</td>\n",
       "      <td>5271</td>\n",
       "    </tr>\n",
       "    <tr>\n",
       "      <th>level</th>\n",
       "      <td>5271</td>\n",
       "      <td>0</td>\n",
       "      <td>5271</td>\n",
       "    </tr>\n",
       "    <tr>\n",
       "      <th>job_category</th>\n",
       "      <td>5271</td>\n",
       "      <td>0</td>\n",
       "      <td>5271</td>\n",
       "    </tr>\n",
       "    <tr>\n",
       "      <th>career_level</th>\n",
       "      <td>5271</td>\n",
       "      <td>0</td>\n",
       "      <td>5271</td>\n",
       "    </tr>\n",
       "    <tr>\n",
       "      <th>salary_range_from</th>\n",
       "      <td>5271</td>\n",
       "      <td>0</td>\n",
       "      <td>5271</td>\n",
       "    </tr>\n",
       "    <tr>\n",
       "      <th>salary_range_to</th>\n",
       "      <td>5271</td>\n",
       "      <td>0</td>\n",
       "      <td>5271</td>\n",
       "    </tr>\n",
       "    <tr>\n",
       "      <th>salary_frequency</th>\n",
       "      <td>5271</td>\n",
       "      <td>0</td>\n",
       "      <td>5271</td>\n",
       "    </tr>\n",
       "    <tr>\n",
       "      <th>preferred_skills</th>\n",
       "      <td>3338</td>\n",
       "      <td>1933</td>\n",
       "      <td>5271</td>\n",
       "    </tr>\n",
       "    <tr>\n",
       "      <th>posting_date</th>\n",
       "      <td>2045</td>\n",
       "      <td>3226</td>\n",
       "      <td>5271</td>\n",
       "    </tr>\n",
       "    <tr>\n",
       "      <th>post_until</th>\n",
       "      <td>2001</td>\n",
       "      <td>3270</td>\n",
       "      <td>5271</td>\n",
       "    </tr>\n",
       "  </tbody>\n",
       "</table>\n",
       "</div>"
      ],
      "text/plain": [
       "                   non_nulls  nulls  total\n",
       "agency                  5271      0   5271\n",
       "#_of_positions          5271      0   5271\n",
       "business_title          5271      0   5271\n",
       "level                   5271      0   5271\n",
       "job_category            5271      0   5271\n",
       "career_level            5271      0   5271\n",
       "salary_range_from       5271      0   5271\n",
       "salary_range_to         5271      0   5271\n",
       "salary_frequency        5271      0   5271\n",
       "preferred_skills        3338   1933   5271\n",
       "posting_date            2045   3226   5271\n",
       "post_until              2001   3270   5271"
      ]
     },
     "metadata": {},
     "output_type": "display_data"
    }
   ],
   "source": [
    "display(pd.DataFrame({\n",
    "    \"non_nulls\": df_merged.count(),\n",
    "    \"nulls\": df_merged.isnull().sum(),\n",
    "    \"total\": len(df_merged)\n",
    "}))"
   ]
  },
  {
   "cell_type": "code",
   "execution_count": 18,
   "id": "da2692f1",
   "metadata": {},
   "outputs": [
    {
     "name": "stderr",
     "output_type": "stream",
     "text": [
      "C:\\Users\\pablo\\AppData\\Local\\Temp\\ipykernel_12508\\3310007299.py:10: UserWarning: This pattern is interpreted as a regular expression, and has match groups. To actually get the groups, use str.extract.\n",
      "  df_merged['is_tech'] = df_merged['job_category'].str.contains(it_pattern, na=False, case=False) | df_merged['business_title'].str.contains(it_pattern, na=False, case=False)\n"
     ]
    }
   ],
   "source": [
    "# Create a salary midpoint column and sector (job_category) normalization\n",
    "\n",
    "df_merged['salary_midpoint'] = df_merged[['salary_range_from', 'salary_range_to']].mean(axis=1)\n",
    "df_merged['posting_year'] = df_merged['posting_date'].dt.year\n",
    "#df_keywords['posting_month'] = df_keywords['posting_date'].dt.to_period('M')\n",
    "\n",
    "# Create a boolean mask for IT/Cyber/Data jobs using regex on job_category or business_title\n",
    "# Adjust the regex pattern as needed for the job market context\n",
    "it_pattern = r'(it|information technology|cyber|security|data|analyst|engineer|developer|software|bi|ml|ai|python|sql|cloud)'\n",
    "df_merged['is_tech'] = df_merged['job_category'].str.contains(it_pattern, na=False, case=False) | df_merged['business_title'].str.contains(it_pattern, na=False, case=False)\n",
    "\n",
    "# For skills analysis, create a list of keywords for technical and soft skills:\n",
    "tech_skills = ['python', 'sql', 'tableau', 'bi', 'cyber', 'eda', 'security', 'machine learning', 'llm', 'ml', 'ai', 'pandas', 'numpy', 'cloud', 'agile', 'java', 'c++', 'linux']\n",
    "soft_skills = ['communication', 'teamwork', 'leadership', 'collaboration', 'problem solving', 'organization', 'management', 'writing', 'presentation']"
   ]
  }
 ],
 "metadata": {
  "kernelspec": {
   "display_name": "venv",
   "language": "python",
   "name": "venv"
  },
  "language_info": {
   "codemirror_mode": {
    "name": "ipython",
    "version": 3
   },
   "file_extension": ".py",
   "mimetype": "text/x-python",
   "name": "python",
   "nbconvert_exporter": "python",
   "pygments_lexer": "ipython3",
   "version": "3.13.5"
  }
 },
 "nbformat": 4,
 "nbformat_minor": 5
}
