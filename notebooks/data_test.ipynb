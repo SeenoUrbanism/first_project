{
 "cells": [
  {
   "cell_type": "code",
   "execution_count": 1,
   "id": "d9b9793b-8d6b-4a29-adf6-32f72bcee1c8",
   "metadata": {},
   "outputs": [],
   "source": [
    "import pandas as pd"
   ]
  },
  {
   "cell_type": "code",
   "execution_count": 3,
   "id": "e28a66d2-32fc-432d-a92e-05ee54da660b",
   "metadata": {},
   "outputs": [],
   "source": [
    "job_nyc = pd.read_csv(r\"C:\\Users\\Sina A.Y\\Documents\\Ironhack\\first_project\\notebooks\\Jobs_NYC_Postings.csv\")\n"
   ]
  },
  {
   "cell_type": "code",
   "execution_count": 5,
   "id": "641d1975-dab0-4ab6-815d-9bb92907cdea",
   "metadata": {},
   "outputs": [],
   "source": [
    "job_nyc1 = pd.read_csv(r\"C:\\Users\\Sina A.Y\\Documents\\Ironhack\\first_project\\notebooks\\Jobs_NYC_Postings2.csv\")\n"
   ]
  },
  {
   "cell_type": "code",
   "execution_count": 9,
   "id": "e884ff29-a36d-4049-994f-6757eb203335",
   "metadata": {},
   "outputs": [
    {
     "name": "stdout",
     "output_type": "stream",
     "text": [
      "      Job ID                          Agency Posting Type  # Of Positions  \\\n",
      "0     534519  DEPT OF ENVIRONMENT PROTECTION     Internal               2   \n",
      "1     631363  DEPT OF ENVIRONMENT PROTECTION     Internal               1   \n",
      "2     628158         BRONX DISTRICT ATTORNEY     External               2   \n",
      "3     629002      OFFICE OF CRIMINAL JUSTICE     Internal               1   \n",
      "4     613253   DEPT OF DESIGN & CONSTRUCTION     Internal               1   \n",
      "...      ...                             ...          ...             ...   \n",
      "5064  609088  DEPT OF ENVIRONMENT PROTECTION     Internal               1   \n",
      "5065  632969    DEPARTMENT OF TRANSPORTATION     Internal               3   \n",
      "5066  508258        DEPARTMENT OF CORRECTION     Internal               1   \n",
      "5067  543713           NYC HOUSING AUTHORITY     Internal               3   \n",
      "5068  634000               POLICE DEPARTMENT     Internal               1   \n",
      "\n",
      "                                         Business Title  \\\n",
      "0                                     Region Supervisor   \n",
      "1     2024-BWS-010-Early Warning Remote Modeling Int...   \n",
      "2                                  Intelligence Analyst   \n",
      "3                  Senior Coordinator, Capital Projects   \n",
      "4                                              Director   \n",
      "...                                                 ...   \n",
      "5064                             Assistant Commissioner   \n",
      "5065                          Assistant General Counsel   \n",
      "5066                                    Agency Attorney   \n",
      "5067                             Senior Project Manager   \n",
      "5068                                       Investigator   \n",
      "\n",
      "                 Civil Service Title Title Classification Title Code No Level  \\\n",
      "0     ADMINISTRATIVE PROJECT MANAGER        Competitive-1         8300B    00   \n",
      "1              SUMMER COLLEGE INTERN    Non-Competitive-5         10234    00   \n",
      "2                COMMUNITY ASSOCIATE    Non-Competitive-5         56057    00   \n",
      "3              COMMUNITY COORDINATOR    Non-Competitive-5         56058    00   \n",
      "4        ADMINISTRATIVE CITY PLANNER        Competitive-1         10053    M2   \n",
      "...                              ...                  ...           ...   ...   \n",
      "5064  ADMINISTRATIVE PUBLIC HEALTH S        Competitive-1         82989    M4   \n",
      "5065                 AGENCY ATTORNEY    Non-Competitive-5         30087    01   \n",
      "5066                 AGENCY ATTORNEY    Non-Competitive-5         30087    04   \n",
      "5067  ADMINISTRATIVE CONSTRUCTION PR        Competitive-1         82991    M4   \n",
      "5068                    INVESTIGATOR        Competitive-1         31105    00   \n",
      "\n",
      "                                           Job Category  ...  \\\n",
      "0                 Engineering, Architecture, & Planning  ...   \n",
      "1                 Engineering, Architecture, & Planning  ...   \n",
      "2     Communications & Intergovernmental Affairs Tec...  ...   \n",
      "3                 Engineering, Architecture, & Planning  ...   \n",
      "4                 Engineering, Architecture, & Planning  ...   \n",
      "...                                                 ...  ...   \n",
      "5064  Administration & Human Resources Health Public...  ...   \n",
      "5065                                      Legal Affairs  ...   \n",
      "5066                                      Legal Affairs  ...   \n",
      "5067  Administration & Human Resources Engineering, ...  ...   \n",
      "5068          Public Safety, Inspections, & Enforcement  ...   \n",
      "\n",
      "                                 Additional Information  \\\n",
      "0     Appointments are subject to OMB approval. For ...   \n",
      "1                                                   NaN   \n",
      "2                                                   NaN   \n",
      "3                                                   NaN   \n",
      "4                                                   NaN   \n",
      "...                                                 ...   \n",
      "5064                                                NaN   \n",
      "5065                                                NaN   \n",
      "5066                                                NaN   \n",
      "5067  1.\\tCandidates with permanent civil service st...   \n",
      "5068  NOTE: This position is open to qualified perso...   \n",
      "\n",
      "                                               To Apply  \\\n",
      "0                      To Apply: Click Apply Now button   \n",
      "1     Apply click the âApply Nowâ button.    DEP...   \n",
      "2     For City employees, to complete your applicati...   \n",
      "3                                                   NaN   \n",
      "4     Please go to NYC Government Jobs  Explore Care...   \n",
      "...                                                 ...   \n",
      "5064                             Press the apply button   \n",
      "5065  All resumes are to be submitted electronically...   \n",
      "5066  For City employees: Go to Employee Self-Servic...   \n",
      "5067                        Click the Apply Now button.   \n",
      "5068  Please visit: https://cityjobs.nyc.gov and sea...   \n",
      "\n",
      "                              Hours/Shift  \\\n",
      "0                                     NaN   \n",
      "1                       35 Hours per week   \n",
      "2                                     NaN   \n",
      "3                                     NaN   \n",
      "4                                     NaN   \n",
      "...                                   ...   \n",
      "5064  Monday - Friday 35 + hours per week   \n",
      "5065                                35hrs   \n",
      "5066                                  NaN   \n",
      "5067                                  NaN   \n",
      "5068                                  NaN   \n",
      "\n",
      "                                        Work Location 1 Recruitment Contact  \\\n",
      "0                           96-05 Horace Harding Expway                 NaN   \n",
      "1     *The position is located in Valhalla, NY, in W...                 NaN   \n",
      "2                                                   NaN                 NaN   \n",
      "3                                                   NaN                 NaN   \n",
      "4                                                   NaN                 NaN   \n",
      "...                                                 ...                 ...   \n",
      "5064                      59-17 Junction Blvd Corona Ny                 NaN   \n",
      "5065                            55 Water Street, NY, NY                 NaN   \n",
      "5066                                                NaN                 NaN   \n",
      "5067                                                NaN                 NaN   \n",
      "5068                                                NaN                 NaN   \n",
      "\n",
      "                                  Residency Requirement Posting Date  \\\n",
      "0     There is no residency requirement for this title.   06/08/2022   \n",
      "1     There is no New York City residency requiremen...   04/02/2024   \n",
      "2      City Residency is not required for this position   02/27/2024   \n",
      "3     New York City residency is generally required ...   03/05/2024   \n",
      "4     New York City residency is generally required ...   11/06/2023   \n",
      "...                                                 ...          ...   \n",
      "5064  New York City residency is generally required ...   10/06/2023   \n",
      "5065  New York City Residency is not required for th...   04/11/2024   \n",
      "5066  New York City residency is generally required ...   12/08/2021   \n",
      "5067               NYCHA has no residency requirements.   08/17/2022   \n",
      "5068  New York City residency is generally required ...   04/19/2024   \n",
      "\n",
      "       Post Until Posting Updated Process Date  \n",
      "0             NaN      06/12/2022   05/06/2024  \n",
      "1     11-JUN-2024      04/02/2024   05/06/2024  \n",
      "2     26-FEB-2025      02/27/2024   05/06/2024  \n",
      "3     29-MAY-2024      04/29/2024   05/06/2024  \n",
      "4             NaN      03/05/2024   05/06/2024  \n",
      "...           ...             ...          ...  \n",
      "5064          NaN      10/06/2023   05/06/2024  \n",
      "5065          NaN      04/11/2024   05/06/2024  \n",
      "5066          NaN      12/08/2021   05/06/2024  \n",
      "5067          NaN      11/07/2022   05/06/2024  \n",
      "5068  19-MAY-2024      04/26/2024   05/06/2024  \n",
      "\n",
      "[5069 rows x 30 columns]\n"
     ]
    }
   ],
   "source": [
    "print(job_nyc1)\n"
   ]
  },
  {
   "cell_type": "code",
   "execution_count": 12,
   "id": "24a566b8-6f18-421f-97dd-cef1a6c9c1df",
   "metadata": {},
   "outputs": [
    {
     "data": {
      "text/plain": [
       "np.int64(2699)"
      ]
     },
     "execution_count": 12,
     "metadata": {},
     "output_type": "execute_result"
    }
   ],
   "source": [
    "job_nyc[\"Preferred Skills\"].isnull().sum()\n"
   ]
  },
  {
   "cell_type": "code",
   "execution_count": 13,
   "id": "dc0c930a-cc77-40e6-9256-2a4e05f4d2b5",
   "metadata": {},
   "outputs": [
    {
     "data": {
      "text/plain": [
       "Preferred Skills\n",
       "NaN                                                                                                                                                                                                                                                                                                                                                                                                                                                                                                                                                                                                                                                                     2699\n",
       "Candidates should have the ability to manage construction managers; complete multiple multi-trade projects on schedule; possess strong computer, organizational, verbal, and written communication skills; and should be attentive to details.                                                                                                                                                                                                                                                                                                                                                                                                                            18\n",
       "The candidate must have a thorough understanding of current engineering design principles and practices, the NYC Building Codes, the NYC Energy Code in particular, as well as general building design, construction, project management, and project delivery methodologies. The candidate must have excellent management skills and the ability to communicate effectively both verbally and in writing. The candidate must have prior experience in a managerial, administrative, or supervisory position. New York State RA is required. AutoCAD required, BIM preferred, LEED AP preferred.                                                                          18\n",
       "â¢\\tExperience with customer service or office support â¢\\tFamiliarity with database systems or data entry â¢\\tInterest in public service or government operations                                                                                                                                                                                                                                                                                                                                                                                                                                                                                                     14\n",
       "Please note the following preferred skills for this position:  1.\\tOutstanding verbal and written communication skills 2.\\tProficiency in Microsoft Office and AutoCAD 3.\\tConstruction knowledge relevant to infrastructure work (i.e., roadway, sewer, and/or water main) 4.\\tFamiliarity with NYC DOT, NYS DOT, NYC DEP specifications, MUTCD, and AASHTO standards 5.\\tComprehensive understanding of the NYC infrastructure system and current engineering practices 6.\\tProficiency in Primavera P6 scheduling and Envision Sustainability Professional (ENV SP) credential (preferred) 7.\\tValid driver's license (required) 8.\\tPersonal vehicle (preferred)      14\n",
       "                                                                                                                                                                                                                                                                                                                                                                                                                                                                                                                                                                                                                                                                        ... \n",
       "â¢\\tYou have 1-2 years of managerial experience, including managing people and complex projects. â¢\\tYou have familiarity with the Cityâs compliance reporting requirements, management indicators, data sharing, and open-data standards. â¢\\tYou have a working knowledge of City data and technology systems â¢\\tYou have strong oral and visual communication skills â¢\\tYou have an advanced degree(s) in relevant discipline.                                                                                                                                                                                                                                 1\n",
       "1.\\tBachelorâs or master's degree in physiology, recreation, or a sports-related field. 2.\\tExperience recruiting, instructing and coaching sports, including girlsâ, womenâs and non-traditional sports. 3.\\tExperience with fine arts, performing arts and decorative arts. 4.\\tExcellent communication, organizational and customer service skills. 5.\\tProficiency in computer software, including Microsoft Word, Excel and PowerPoint. 6.\\tCPR and AED certified.  7.\\tValid New York State driver license. 8.\\tAble to work weekends and non-traditional hours. 9.\\tFluency in Spanish, Korean, Mandarin/Cantonese or Polish.                                 1\n",
       "Preferred Skills/Qualifications Preferred applicants have passed Urban Park Ranger Civil Service Exam No. 4109 or filed to take Exam No. 5139. 1.\\tBachelorâs degree. 60 college credits in Education, Science, Wildlife, Forestry or a related field. 2.\\tExcellent oral and written communication skills.   Other Requirements 1.\\tAble to work any shift, including weekends and holidays.  2.\\tAble to work outdoors in all kinds of weather; able to walk and/or stand in an assigned area; able to drive or sit in a patrol vehicle while remaining alert.                                                                                                         1\n",
       "1.\\tA masterâs degree in urban planning or related field. 2.\\tStrong interpersonal, writing, communication and negotiation skills and ability to think analytically and strategically. 3.\\tExcellent time management and prioritization capabilities; sense of urgency and ability to focus on project deliverables. 4.\\tAbility to work in a team environment and communicate and respond to needs of supervisors, peers and subordinates. 5.\\tExperience with ULURP, park alienation and CEQR processes. 6.\\tProficiency with Microsoft Office and mapping and graphics programs. Strong graphics and mapping skills. 7.\\tValid New York State driver license.         1\n",
       "1.\\tBachelorâs degree. Coursework in Legal Studies, Public Policy or related field is a plus.  2.\\tProficient in Microsoft Word, Excel and PowerPoint.  3.\\tExcellent communication and organizational skills. 4.\\tStrong customer service skills, attention to detail and ability to multitask.  5.\\tAbility to handle confidential matters. 6.\\tStrong computer and database skills.                                                                                                                                                                                                                                                                                   1\n",
       "Name: count, Length: 1441, dtype: int64"
      ]
     },
     "execution_count": 13,
     "metadata": {},
     "output_type": "execute_result"
    }
   ],
   "source": [
    "job_nyc[\"Preferred Skills\"].value_counts(dropna=False)"
   ]
  },
  {
   "cell_type": "code",
   "execution_count": 14,
   "id": "9014b663-c692-4a5e-8988-f2586d92a330",
   "metadata": {},
   "outputs": [
    {
     "data": {
      "text/plain": [
       "Job ID                              0\n",
       "Agency                              0\n",
       "Posting Type                        0\n",
       "# Of Positions                      0\n",
       "Business Title                      0\n",
       "Civil Service Title                 0\n",
       "Title Classification                0\n",
       "Title Code No                       0\n",
       "Level                               0\n",
       "Job Category                        0\n",
       "Full-Time/Part-Time indicator       0\n",
       "Career Level                        0\n",
       "Salary Range From                   0\n",
       "Salary Range To                     0\n",
       "Salary Frequency                    0\n",
       "Work Location                       0\n",
       "Division/Work Unit                  0\n",
       "Job Description                     0\n",
       "Minimum Qual Requirements          67\n",
       "Preferred Skills                 2699\n",
       "Additional Information           3742\n",
       "To Apply                         3018\n",
       "Hours/Shift                      4854\n",
       "Work Location 1                  4571\n",
       "Recruitment Contact              6030\n",
       "Residency Requirement               0\n",
       "Posting Date                        0\n",
       "Post Until                       3847\n",
       "Posting Updated                     0\n",
       "Process Date                        0\n",
       "dtype: int64"
      ]
     },
     "execution_count": 14,
     "metadata": {},
     "output_type": "execute_result"
    }
   ],
   "source": [
    "job_nyc.isnull().sum()"
   ]
  },
  {
   "cell_type": "code",
   "execution_count": 17,
   "id": "66e870e7-0188-46ea-8e9a-a6f7abebdcf6",
   "metadata": {},
   "outputs": [
    {
     "name": "stdout",
     "output_type": "stream",
     "text": [
      "                               non_nulls  nulls  total\n",
      "Job ID                              6030      0   6030\n",
      "Agency                              6030      0   6030\n",
      "Posting Type                        6030      0   6030\n",
      "# Of Positions                      6030      0   6030\n",
      "Business Title                      6030      0   6030\n",
      "Civil Service Title                 6030      0   6030\n",
      "Title Classification                6030      0   6030\n",
      "Title Code No                       6030      0   6030\n",
      "Level                               6030      0   6030\n",
      "Job Category                        6030      0   6030\n",
      "Full-Time/Part-Time indicator       6030      0   6030\n",
      "Career Level                        6030      0   6030\n",
      "Salary Range From                   6030      0   6030\n",
      "Salary Range To                     6030      0   6030\n",
      "Salary Frequency                    6030      0   6030\n",
      "Work Location                       6030      0   6030\n",
      "Division/Work Unit                  6030      0   6030\n",
      "Job Description                     6030      0   6030\n",
      "Minimum Qual Requirements           5963     67   6030\n",
      "Preferred Skills                    3331   2699   6030\n",
      "Additional Information              2288   3742   6030\n",
      "To Apply                            3012   3018   6030\n",
      "Hours/Shift                         1176   4854   6030\n",
      "Work Location 1                     1459   4571   6030\n",
      "Recruitment Contact                    0   6030   6030\n",
      "Residency Requirement               6030      0   6030\n",
      "Posting Date                        6030      0   6030\n",
      "Post Until                          2183   3847   6030\n",
      "Posting Updated                     6030      0   6030\n",
      "Process Date                        6030      0   6030\n"
     ]
    }
   ],
   "source": [
    "print(pd.DataFrame({\n",
    "    \"non_nulls\": job_nyc.count(),\n",
    "    \"nulls\": job_nyc.isnull().sum(),\n",
    "    \"total\": len(job_nyc)\n",
    "}))\n",
    "\n"
   ]
  },
  {
   "cell_type": "code",
   "execution_count": 18,
   "id": "03ec2d8b-9946-4bbd-bfc2-5e4caa7fbf2a",
   "metadata": {},
   "outputs": [
    {
     "name": "stdout",
     "output_type": "stream",
     "text": [
      "                               non_nulls  nulls  total\n",
      "Job ID                              5069      0   5069\n",
      "Agency                              5069      0   5069\n",
      "Posting Type                        5069      0   5069\n",
      "# Of Positions                      5069      0   5069\n",
      "Business Title                      5069      0   5069\n",
      "Civil Service Title                 5069      0   5069\n",
      "Title Classification                5069      0   5069\n",
      "Title Code No                       5069      0   5069\n",
      "Level                               5069      0   5069\n",
      "Job Category                        5069      0   5069\n",
      "Full-Time/Part-Time indicator       4990     79   5069\n",
      "Career Level                        5069      0   5069\n",
      "Salary Range From                   5069      0   5069\n",
      "Salary Range To                     5069      0   5069\n",
      "Salary Frequency                    5069      0   5069\n",
      "Work Location                       5069      0   5069\n",
      "Division/Work Unit                  5069      0   5069\n",
      "Job Description                     5067      2   5069\n",
      "Minimum Qual Requirements           5020     49   5069\n",
      "Preferred Skills                    3694   1375   5069\n",
      "Additional Information              2667   2402   5069\n",
      "To Apply                            4173    896   5069\n",
      "Hours/Shift                         1623   3446   5069\n",
      "Work Location 1                     1858   3211   5069\n",
      "Recruitment Contact                    0   5069   5069\n",
      "Residency Requirement               5069      0   5069\n",
      "Posting Date                        5069      0   5069\n",
      "Post Until                          1771   3298   5069\n",
      "Posting Updated                     5069      0   5069\n",
      "Process Date                        5069      0   5069\n"
     ]
    }
   ],
   "source": [
    "print(pd.DataFrame({\n",
    "    \"non_nulls\": job_nyc1.count(),\n",
    "    \"nulls\": job_nyc1.isnull().sum(),\n",
    "    \"total\": len(job_nyc1)\n",
    "}))"
   ]
  },
  {
   "cell_type": "code",
   "execution_count": 20,
   "id": "4794332e-5011-4afe-8e63-23e4702f8d5f",
   "metadata": {},
   "outputs": [],
   "source": [
    "merged = pd.concat([job_nyc,job_nyc1], ignore_index = True)"
   ]
  },
  {
   "cell_type": "code",
   "execution_count": 21,
   "id": "ee2e9f78-d521-4319-90f8-c6e9061105e2",
   "metadata": {},
   "outputs": [],
   "source": [
    "merged = merged.drop_duplicates()"
   ]
  },
  {
   "cell_type": "code",
   "execution_count": 22,
   "id": "aa7cbb72-5846-4e6a-b49b-9e7a21efe15d",
   "metadata": {},
   "outputs": [
    {
     "name": "stdout",
     "output_type": "stream",
     "text": [
      "       Job ID                          Agency Posting Type  # Of Positions  \\\n",
      "0      605239  DEPT OF ENVIRONMENT PROTECTION     External               1   \n",
      "1      680227  DEPT OF ENVIRONMENT PROTECTION     External               1   \n",
      "2      634027     HRA/DEPT OF SOCIAL SERVICES     External               2   \n",
      "3      564043  DEPT OF ENVIRONMENT PROTECTION     External               1   \n",
      "4      556627  DEPT OF ENVIRONMENT PROTECTION     Internal               1   \n",
      "...       ...                             ...          ...             ...   \n",
      "11094  609088  DEPT OF ENVIRONMENT PROTECTION     Internal               1   \n",
      "11095  632969    DEPARTMENT OF TRANSPORTATION     Internal               3   \n",
      "11096  508258        DEPARTMENT OF CORRECTION     Internal               1   \n",
      "11097  543713           NYC HOUSING AUTHORITY     Internal               3   \n",
      "11098  634000               POLICE DEPARTMENT     Internal               1   \n",
      "\n",
      "                                Business Title  \\\n",
      "0       AREA ENGINEER - MECHANICAL ENGINEERING   \n",
      "1                          ACCOUNTABLE MANAGER   \n",
      "2      RENTAL ASSISTANCE UNIT (RAU) SUPERVISOR   \n",
      "3           Summons & Permitting Support Staff   \n",
      "4       Associate Water Use Inspector Level II   \n",
      "...                                        ...   \n",
      "11094                   Assistant Commissioner   \n",
      "11095                Assistant General Counsel   \n",
      "11096                          Agency Attorney   \n",
      "11097                   Senior Project Manager   \n",
      "11098                             Investigator   \n",
      "\n",
      "                  Civil Service Title Title Classification Title Code No  \\\n",
      "0                 MECHANICAL ENGINEER        Competitive-1         20415   \n",
      "1           ASSOCIATE PROJECT MANAGER        Competitive-1         22427   \n",
      "2      ASSOCIATE BENEFITS OPPORTUNITY        Competitive-1         56316   \n",
      "3                  CLERICAL ASSOCIATE        Competitive-1         10251   \n",
      "4       ASSOCIATE WATER USE INSPECTOR        Competitive-1         34620   \n",
      "...                               ...                  ...           ...   \n",
      "11094  ADMINISTRATIVE PUBLIC HEALTH S        Competitive-1         82989   \n",
      "11095                 AGENCY ATTORNEY    Non-Competitive-5         30087   \n",
      "11096                 AGENCY ATTORNEY    Non-Competitive-5         30087   \n",
      "11097  ADMINISTRATIVE CONSTRUCTION PR        Competitive-1         82991   \n",
      "11098                    INVESTIGATOR        Competitive-1         31105   \n",
      "\n",
      "      Level                                       Job Category  ...  \\\n",
      "0        03              Engineering, Architecture, & Planning  ...   \n",
      "1        03  Engineering, Architecture, & Planning Public S...  ...   \n",
      "2        03                                    Social Services  ...   \n",
      "3        03  Administration & Human Resources Constituent S...  ...   \n",
      "4        02          Public Safety, Inspections, & Enforcement  ...   \n",
      "...     ...                                                ...  ...   \n",
      "11094    M4  Administration & Human Resources Health Public...  ...   \n",
      "11095    01                                      Legal Affairs  ...   \n",
      "11096    04                                      Legal Affairs  ...   \n",
      "11097    M4  Administration & Human Resources Engineering, ...  ...   \n",
      "11098    00          Public Safety, Inspections, & Enforcement  ...   \n",
      "\n",
      "                                  Additional Information  \\\n",
      "0      Appointments are subject to OMB approval.  For...   \n",
      "1                                                    NaN   \n",
      "2      In addition, the Human Resources Administratio...   \n",
      "3      DEP is an equal opportunity employer with a st...   \n",
      "4      Appointments are subject to OMB approval For a...   \n",
      "...                                                  ...   \n",
      "11094                                                NaN   \n",
      "11095                                                NaN   \n",
      "11096                                                NaN   \n",
      "11097  1.\\tCandidates with permanent civil service st...   \n",
      "11098  NOTE: This position is open to qualified perso...   \n",
      "\n",
      "                                                To Apply  \\\n",
      "0                                Click Apply Now button.   \n",
      "1                                                    NaN   \n",
      "2                                Click APPLY NOW Button.   \n",
      "3                               To apply click Apply Now   \n",
      "4                    To apply click the Apply Button Now   \n",
      "...                                                  ...   \n",
      "11094                             Press the apply button   \n",
      "11095  All resumes are to be submitted electronically...   \n",
      "11096  For City employees: Go to Employee Self-Servic...   \n",
      "11097                        Click the Apply Now button.   \n",
      "11098  Please visit: https://cityjobs.nyc.gov and sea...   \n",
      "\n",
      "                               Hours/Shift  \\\n",
      "0                    35 hours per week/day   \n",
      "1                                      NaN   \n",
      "2                                      NaN   \n",
      "3                                      NaN   \n",
      "4                        35 hours per week   \n",
      "...                                    ...   \n",
      "11094  Monday - Friday 35 + hours per week   \n",
      "11095                                35hrs   \n",
      "11096                                  NaN   \n",
      "11097                                  NaN   \n",
      "11098                                  NaN   \n",
      "\n",
      "                                         Work Location 1 Recruitment Contact  \\\n",
      "0      96-05 Horace Harding Expressway, 2nd floor Cor...                 NaN   \n",
      "1                                                    NaN                 NaN   \n",
      "2                                                    NaN                 NaN   \n",
      "3                                                    NaN                 NaN   \n",
      "4                         58-52 Grand Avenue, Maspeth NY                 NaN   \n",
      "...                                                  ...                 ...   \n",
      "11094                      59-17 Junction Blvd Corona Ny                 NaN   \n",
      "11095                            55 Water Street, NY, NY                 NaN   \n",
      "11096                                                NaN                 NaN   \n",
      "11097                                                NaN                 NaN   \n",
      "11098                                                NaN                 NaN   \n",
      "\n",
      "                                   Residency Requirement Posting Date  \\\n",
      "0      New York City Residency is not required for th...   11/27/2023   \n",
      "1      New York City Residency is not required for th...   09/23/2024   \n",
      "2      New York City Residency is not required for th...   04/19/2024   \n",
      "3      New York City residency is generally required ...   12/20/2022   \n",
      "4      New York City residency is generally required ...   10/20/2022   \n",
      "...                                                  ...          ...   \n",
      "11094  New York City residency is generally required ...   10/06/2023   \n",
      "11095  New York City Residency is not required for th...   04/11/2024   \n",
      "11096  New York City residency is generally required ...   12/08/2021   \n",
      "11097               NYCHA has no residency requirements.   08/17/2022   \n",
      "11098  New York City residency is generally required ...   04/19/2024   \n",
      "\n",
      "        Post Until Posting Updated Process Date  \n",
      "0              NaN      12/04/2023   09/16/2025  \n",
      "1              NaN      09/23/2024   09/16/2025  \n",
      "2              NaN      04/19/2024   09/16/2025  \n",
      "3              NaN      12/20/2022   09/16/2025  \n",
      "4              NaN      11/18/2022   09/16/2025  \n",
      "...            ...             ...          ...  \n",
      "11094          NaN      10/06/2023   05/06/2024  \n",
      "11095          NaN      04/11/2024   05/06/2024  \n",
      "11096          NaN      12/08/2021   05/06/2024  \n",
      "11097          NaN      11/07/2022   05/06/2024  \n",
      "11098  19-MAY-2024      04/26/2024   05/06/2024  \n",
      "\n",
      "[11061 rows x 30 columns]\n"
     ]
    }
   ],
   "source": [
    "print(merged)"
   ]
  },
  {
   "cell_type": "code",
   "execution_count": 24,
   "id": "0a923074-7df0-41d7-b88d-6c20a0ad68f9",
   "metadata": {},
   "outputs": [],
   "source": [
    "merged.to_csv(\"jobdata.csv\", index=False)"
   ]
  },
  {
   "cell_type": "code",
   "execution_count": 31,
   "id": "f60cb0ca-9f61-4819-9ce8-fc568fb1a583",
   "metadata": {},
   "outputs": [
    {
     "name": "stdout",
     "output_type": "stream",
     "text": [
      "Index(['Job ID', 'Agency', 'Posting Type', '# Of Positions', 'Business Title',\n",
      "       'Civil Service Title', 'Title Classification', 'Title Code No', 'Level',\n",
      "       'Job Category', 'Full-Time/Part-Time indicator', 'Career Level',\n",
      "       'Salary Range From', 'Salary Range To', 'Salary Frequency',\n",
      "       'Work Location', 'Division/Work Unit', 'Job Description',\n",
      "       'Minimum Qual Requirements', 'Preferred Skills',\n",
      "       'Additional Information', 'To Apply', 'Hours/Shift', 'Work Location 1',\n",
      "       'Recruitment Contact', 'Residency Requirement', 'Posting Date',\n",
      "       'Post Until', 'Posting Updated', 'Process Date'],\n",
      "      dtype='object')\n"
     ]
    }
   ],
   "source": [
    "print(merged.columns)"
   ]
  },
  {
   "cell_type": "code",
   "execution_count": 32,
   "id": "75005a1b-03b2-4129-a117-2c27cad907eb",
   "metadata": {},
   "outputs": [],
   "source": [
    "merged = merged.drop_duplicates(subset=['Job ID'])"
   ]
  },
  {
   "cell_type": "code",
   "execution_count": 33,
   "id": "12bfa638-3fdd-488f-b63a-0aa4a1e14ebe",
   "metadata": {},
   "outputs": [],
   "source": [
    "merged.to_csv(\"jobdata_dropped.csv\", index=False)"
   ]
  },
  {
   "cell_type": "code",
   "execution_count": null,
   "id": "ad0c0286-e12b-4ce0-9ba3-1f5b8172f4ad",
   "metadata": {},
   "outputs": [],
   "source": []
  }
 ],
 "metadata": {
  "kernelspec": {
   "display_name": "venv",
   "language": "python",
   "name": "venv"
  },
  "language_info": {
   "codemirror_mode": {
    "name": "ipython",
    "version": 3
   },
   "file_extension": ".py",
   "mimetype": "text/x-python",
   "name": "python",
   "nbconvert_exporter": "python",
   "pygments_lexer": "ipython3",
   "version": "3.13.5"
  }
 },
 "nbformat": 4,
 "nbformat_minor": 5
}
