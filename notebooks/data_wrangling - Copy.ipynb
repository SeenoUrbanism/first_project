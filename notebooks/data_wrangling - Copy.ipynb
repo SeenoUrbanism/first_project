{
 "cells": [
  {
   "cell_type": "code",
   "execution_count": 13,
   "id": "d9b9793b-8d6b-4a29-adf6-32f72bcee1c8",
   "metadata": {},
   "outputs": [],
   "source": [
    "# <-- Import libraries, custom functions, and load configuration & datasets <--\n",
    "\n",
    "import yaml\n",
    "import pandas as pd\n",
    "import numpy as np\n",
    "import datetime as dt\n",
    "import re\n",
    "\n",
    "# <-- Imports custom preprocessing functions from 'functions.py' <--\n",
    "\n",
    "from functions import (drop_duplicates,\n",
    "                       concat_dataframes,\n",
    "                       remove_all_punctuation,\n",
    "                       drop_irrelevant_columns,\n",
    "                       standardize_column_names,\n",
    "                       filter_by_regex_pattern,\n",
    "                       standardize_dates\n",
    "                       )\n",
    "\n",
    "# <-- Loads YAML configuration to dynamically reference CSV output files. <--\n",
    "\n",
    "config = None  # <-- Initialize config\n",
    "try:\n",
    "    with open(\"../config.yaml\", \"r\") as file:\n",
    "        config = yaml.safe_load(file)\n",
    "except:\n",
    "    print(\"Yaml configuration file not found!\")\n",
    "config\n",
    "\n",
    "job_nyc1 = pd.read_csv(config['input_data']['file1'])\n",
    "job_nyc2 = pd.read_csv(config['input_data']['file2'])"
   ]
  },
  {
   "cell_type": "code",
   "execution_count": null,
   "id": "e884ff29-a36d-4049-994f-6757eb203335",
   "metadata": {},
   "outputs": [],
   "source": [
    "job_nyc1.info()\n"
   ]
  },
  {
   "cell_type": "code",
   "execution_count": 2,
   "id": "24a566b8-6f18-421f-97dd-cef1a6c9c1df",
   "metadata": {},
   "outputs": [
    {
     "data": {
      "text/plain": [
       "np.int64(1375)"
      ]
     },
     "execution_count": 2,
     "metadata": {},
     "output_type": "execute_result"
    }
   ],
   "source": [
    "job_nyc1[\"Preferred Skills\"].isnull().sum()"
   ]
  },
  {
   "cell_type": "code",
   "execution_count": 3,
   "id": "1975ea50-83b7-43dc-94ea-89af92c26aec",
   "metadata": {},
   "outputs": [
    {
     "data": {
      "text/plain": [
       "np.int64(2699)"
      ]
     },
     "execution_count": 3,
     "metadata": {},
     "output_type": "execute_result"
    }
   ],
   "source": [
    "job_nyc2[\"Preferred Skills\"].isnull().sum()"
   ]
  },
  {
   "cell_type": "code",
   "execution_count": 4,
   "id": "dc0c930a-cc77-40e6-9256-2a4e05f4d2b5",
   "metadata": {},
   "outputs": [
    {
     "data": {
      "text/plain": [
       "Preferred Skills\n",
       "NaN                                                                                                                                                                                                                                                                                                                                                                                                                                                                                                                                                                                                                                                                                                                                                                                                                                                                                                                                                                                                                                                                                                                                                                                                                                                                                                                                                                                                                                                                                                                                                                                                                                                                                                                                                                                                                                                                                                                                                                                                                                                                                                                                                                                                                                                                                                                                                                                                                                                                                                                        1375\n",
       "Candidate should possess excellent organizational, verbal, and written skills, with the ability to multi-task various projects. Proficiency in Microsoft Office is preferred.                                                                                                                                                                                                                                                                                                                                                                                                                                                                                                                                                                                                                                                                                                                                                                                                                                                                                                                                                                                                                                                                                                                                                                                                                                                                                                                                                                                                                                                                                                                                                                                                                                                                                                                                                                                                                                                                                                                                                                                                                                                                                                                                                                                                                                                                                                                                                18\n",
       "Candidates should have excellent verbal and written communication skills, proficiency in Microsoft Office and AutoCAD applications, and design experience related to infrastructure works (i.e. sewer, water mains, roadways). Candidates must also be familiar with NYCDOT, NYSDOT, and NYCDEP specifications and standards, MUTCD, AASHTO, and understand the NYC infrastructure system as well as current engineering methods and standards. Experience with Primavera P6 scheduling is a plus.                                                                                                                                                                                                                                                                                                                                                                                                                                                                                                                                                                                                                                                                                                                                                                                                                                                                                                                                                                                                                                                                                                                                                                                                                                                                                                                                                                                                                                                                                                                                                                                                                                                                                                                                                                                                                                                                                                                                                                                                                           14\n",
       "â¢\\tCandidates must be able to demonstrate critical thinking skills and effective independent data analysis  â¢\\tExcellent oral and written communication skills, ability to meet deadlines, and an ability to be flexible in assignment of work responsibilities  â¢\\tUnderstanding of water and heavy civil infrastructure design practices and standards  â¢\\tUnderstanding of project management principals, specifically the procedures used by DEP  â¢\\tThis position requires operation of a motor vehicle to perform site visits, equipment testing, inspections, and to attend meetings with project stakeholders  â¢\\tKnowledge of Microsoft Office Suite products (Word, Excel, etc.)                                                                                                                                                                                                                                                                                                                                                                                                                                                                                                                                                                                                                                                                                                                                                                                                                                                                                                                                                                                                                                                                                                                                                                                                                                                                                                                                                                                                                                                                                                                                                                                                                                                                                                                                                                                                                       14\n",
       "â¢\\tProficient oral and written communication skills to effectively communicate with project staff, engineers/architects, inspectors, consultants, contractors, (foreign and domestic), vendors, City operations staff and external project stakeholders such as regulatory agencies and community representatives.  â¢\\tPossession of a motor vehicle driver license valid in the State of New York with no restrictions, which preclude the performance of an Accountable Manager work. This license must be maintained for the duration of employment.  â¢\\tHave a detailed understanding of permitting, equipment and materials, codes and standards, shop/field testing.  â¢\\tAble to determine adequacy and completeness of field investigation plans and reports to support the development of more complex designs or scope change requests.  â¢\\tAbility to assess applicability and appropriateness of field investigation protocols for stated objectives.  â¢\\tPossess a working knowledge of current safety and design standards.  â¢\\tAble to review, interpret and approve complex contract documents.   â¢\\tAble to understand the necessary project resources to effectively identify upcoming needs or existing conflicts.  â¢\\tAble to assess consultant/contractor performance based on contract requirements.   â¢\\tAble to evaluate project progress regularly in terms of potential impacts to schedule compliance.  â¢\\tUnderstand schedule implications of change orders and recovery plans.  â¢\\tUnderstand the process to prepare the Communication Management Plan.  â¢\\tEmploy effective time management practices.  â¢\\tKnowledge of engineering design and construction industry standards and practices as well as environmental engineering operations and processes for water supply and wastewater resource recovery facilities.   â¢\\tStrong technical skills, interpersonal, communication, and computer skills with a working knowledge of MS Office software, and Project Scheduling Software.  â¢\\tKnowledge of operations and processes for wastewater resource recovery facilities.  â¢\\tKnowledge of design and construction industry standards and practices as well as a strong ability to work on a broad multidisciplinary base with various fields and trades as well as the ability to concurrently handle multiple related and non-related tasks.  â¢\\tExperience in writing and reviewing contract specifications for major public works projects.      14\n",
       "                                                                                                                                                                                                                                                                                                                                                                                                                                                                                                                                                                                                                                                                                                                                                                                                                                                                                                                                                                                                                                                                                                                                                                                                                                                                                                                                                                                                                                                                                                                                                                                                                                                                                                                                                                                                                                                                                                                                                                                                                                                                                                                                                                                                                                                                                                                                                                                                                                                                                                                           ... \n",
       "â¢ A baccalaureate degree from an accredited college or university including or supplemented by 30 semester credits in one or a combination of the following fields: social work, psychology,    sociology, human services, criminal justice, education (including early childhood), nursing or cultural anthropology, at least 12 of which must have been in one of these disciplines, and    30 semester credits toward a Master of Social Work or a graduate degree in a related field, and at least eighteen months of child welfare casework experience.  â¢ Strong command of various child protection databases including Connections, ATS, HHS Connect, and LTS, and deep familiarity with ACS policy and protocol. â¢ No less than 5 years of professional experience working as a child protective specialist in a child protective unit, engaging in child protective case practice including investigating allegations    of child abuse or neglect, assessing child safety and risk, documenting progress notes within mandated timeframes, and reviewing case history and court documents. â¢ Two years of professional experience working as a child protective specialist supervisor in a child protective unit, supervising and training child protective specialists in their work of case   practice investigating allegations of child abuse or neglect.                                                                                                                                                                                                                                                                                                                                                                                                                                                                                                                                                                                                                                                                                                                                                                                                                                                                                                                                                                                                                                                                                                                                              1\n",
       "The candidate must have a valid Professional Engineerâs license and a valid driversâ license.                                                                                                                                                                                                                                                                                                                                                                                                                                                                                                                                                                                                                                                                                                                                                                                                                                                                                                                                                                                                                                                                                                                                                                                                                                                                                                                                                                                                                                                                                                                                                                                                                                                                                                                                                                                                                                                                                                                                                                                                                                                                                                                                                                                                                                                                                                                                                                                                                             1\n",
       "â¢\\tA baccalaureate degree from an accredited college, and five years of full-time satisfactory supervisory and/or administrative experience in housing management at a development or          developments containing at least 150 apartments, including overseeing the performance of duties such as: interviewing applicants, determining eligibility; gathering and evaluating information to          resolve complaints; collecting rents; and/or resolving tenant related problems.  â¢\\tIntermediate Microsoft Excel, PowerPoint, and work skills.  â¢\\tAbility to navigate various online databases.  â¢\\tAbility to communicate clearly and concisely, both verbally and in writing.  â¢\\tExcellent detail-orientation and follow up skills.  â¢\\tExperience using and navigating Siebel, AS400, EIV o Excellent communication and organizational skills o Ability to monitor caseload and work independently.  â¢\\tUnderstanding of NYCHA and departmental policies and procedures, and overall operational structure                                                                                                                                                                                                                                                                                                                                                                                                                                                                                                                                                                                                                                                                                                                                                                                                                                                                                                                                                                                                                                                                                                                                                                                                                                                                                                                                                                                                                                                                                      1\n",
       "1. Candidate must hold, or obtain within 1.5 years of employment, and maintain a New York State Department of Health Grade D Water System Operator Certificate 2. Candidate must have good verbal and writing communication skills, some computer skill, strong knowledge in hydraulics and familiarity with water treatment, be familiar with infrastructure construction with an expertise in water main installation.                                                                                                                                                                                                                                                                                                                                                                                                                                                                                                                                                                                                                                                                                                                                                                                                                                                                                                                                                                                                                                                                                                                                                                                                                                                                                                                                                                                                                                                                                                                                                                                                                                                                                                                                                                                                                                                                                                                                                                                                                                                                                                      1\n",
       "Preferred skills include:  1. Knowledge of basic computer skills and Department systems. 2. Excellent analytical skills. 3. Excellent interpersonal and communication skills. 4. Strong organizational skills and an ability to manage a significant caseload while also maintaining tight deadlines.  5. Ability to work independently or as part of a team.  6. Ability to adapt to change and have flexibility to adapt to a wide variety of tasks and functions.                                                                                                                                                                                                                                                                                                                                                                                                                                                                                                                                                                                                                                                                                                                                                                                                                                                                                                                                                                                                                                                                                                                                                                                                                                                                                                                                                                                                                                                                                                                                                                                                                                                                                                                                                                                                                                                                                                                                                                                                                                                          1\n",
       "Name: count, Length: 1583, dtype: int64"
      ]
     },
     "execution_count": 4,
     "metadata": {},
     "output_type": "execute_result"
    }
   ],
   "source": [
    "job_nyc1[\"Preferred Skills\"].value_counts(dropna=False)"
   ]
  },
  {
   "cell_type": "code",
   "execution_count": null,
   "id": "66e870e7-0188-46ea-8e9a-a6f7abebdcf6",
   "metadata": {},
   "outputs": [],
   "source": [
    "display(pd.DataFrame({\n",
    "    \"non_nulls\": job_nyc1.count(),\n",
    "    \"nulls\": job_nyc1.isnull().sum(),\n",
    "    \"total\": len(job_nyc1)\n",
    "}))"
   ]
  },
  {
   "cell_type": "code",
   "execution_count": null,
   "id": "03ec2d8b-9946-4bbd-bfc2-5e4caa7fbf2a",
   "metadata": {},
   "outputs": [],
   "source": [
    "display(pd.DataFrame({\n",
    "    \"non_nulls\": job_nyc2.count(),\n",
    "    \"nulls\": job_nyc2.isnull().sum(),\n",
    "    \"total\": len(job_nyc2)\n",
    "}))"
   ]
  },
  {
   "cell_type": "code",
   "execution_count": 14,
   "id": "4794332e-5011-4afe-8e63-23e4702f8d5f",
   "metadata": {},
   "outputs": [],
   "source": [
    "df_merged = concat_dataframes(job_nyc1,job_nyc2)"
   ]
  },
  {
   "cell_type": "code",
   "execution_count": 15,
   "id": "9c741fc7",
   "metadata": {},
   "outputs": [],
   "source": [
    "df_merged = standardize_column_names(df_merged) "
   ]
  },
  {
   "cell_type": "code",
   "execution_count": 16,
   "id": "db75a471",
   "metadata": {},
   "outputs": [
    {
     "data": {
      "text/plain": [
       "Index(['job_id', 'agency', 'posting_type', '#_of_positions', 'business_title',\n",
       "       'civil_service_title', 'title_classification', 'title_code_no', 'level',\n",
       "       'job_category', 'full-time/part-time_indicator', 'career_level',\n",
       "       'salary_range_from', 'salary_range_to', 'salary_frequency',\n",
       "       'work_location', 'division/work_unit', 'job_description',\n",
       "       'minimum_qual_requirements', 'preferred_skills',\n",
       "       'additional_information', 'to_apply', 'hours/shift', 'work_location_1',\n",
       "       'recruitment_contact', 'residency_requirement', 'posting_date',\n",
       "       'post_until', 'posting_updated', 'process_date'],\n",
       "      dtype='object')"
      ]
     },
     "metadata": {},
     "output_type": "display_data"
    }
   ],
   "source": [
    "display(df_merged.columns)"
   ]
  },
  {
   "cell_type": "code",
   "execution_count": null,
   "id": "ee2e9f78-d521-4319-90f8-c6e9061105e2",
   "metadata": {},
   "outputs": [],
   "source": [
    "df_merged = drop_duplicates(df_merged,'job_id')"
   ]
  },
  {
   "cell_type": "code",
   "execution_count": null,
   "id": "0f2721b0",
   "metadata": {},
   "outputs": [],
   "source": [
    "columns = ['job_id', 'posting_type', 'civil_service_title', 'title_classification', \n",
    "'title_code_no', 'full-time/part-time_indicator', 'work_location', 'division/work_unit',\n",
    "'job_description', 'minimum_qual_requirements', 'additional_information', 'to_apply', \n",
    "'hours/shift', 'work_location_1', 'recruitment_contact', 'residency_requirement', 'posting_updated',\n",
    "'process_date']\n",
    "\n",
    "df_merged = drop_irrelevant_columns(df_merged, columns)"
   ]
  },
  {
   "cell_type": "code",
   "execution_count": null,
   "id": "eacd8c34-47ec-49b3-bc3d-2ad67af00b76",
   "metadata": {},
   "outputs": [],
   "source": [
    "display(df_merged.columns)"
   ]
  },
  {
   "cell_type": "code",
   "execution_count": null,
   "id": "7fb4ffa1",
   "metadata": {},
   "outputs": [],
   "source": [
    "display(df_merged.isnull().sum())"
   ]
  },
  {
   "cell_type": "code",
   "execution_count": null,
   "id": "0ded083f-c733-4be5-9033-82c21fb182f3",
   "metadata": {},
   "outputs": [],
   "source": [
    "display(pd.DataFrame({\n",
    "    \"non_nulls\": df_merged.count(),\n",
    "    \"nulls\": df_merged.isnull().sum(),\n",
    "    \"total\": len(df_merged)\n",
    "}))"
   ]
  },
  {
   "cell_type": "code",
   "execution_count": null,
   "id": "4d3d951c",
   "metadata": {},
   "outputs": [],
   "source": [
    "cat_cols = list(df_merged.select_dtypes(include=['object']))\n",
    "cat_cols"
   ]
  },
  {
   "cell_type": "code",
   "execution_count": null,
   "id": "d38887cb",
   "metadata": {},
   "outputs": [],
   "source": [
    "# Clean up categorical columns (type = 'object') except dates\n",
    "cat_cols = ['agency',\n",
    " 'business_title',\n",
    " 'level',\n",
    " 'job_category',\n",
    " 'career_level',\n",
    " 'salary_frequency',\n",
    " 'preferred_skills']\n",
    " \n",
    "df_merged = remove_all_punctuation(df_merged,cat_cols)"
   ]
  },
  {
   "cell_type": "code",
   "execution_count": null,
   "id": "52abacde",
   "metadata": {},
   "outputs": [],
   "source": [
    "df_merged[['preferred_skills','job_category','career_level']]"
   ]
  },
  {
   "cell_type": "code",
   "execution_count": null,
   "id": "825e1a40",
   "metadata": {},
   "outputs": [],
   "source": [
    "df_merged[['posting_date', 'post_until']]"
   ]
  },
  {
   "cell_type": "code",
   "execution_count": null,
   "id": "342660ee",
   "metadata": {},
   "outputs": [],
   "source": [
    "date_cols = ['posting_date', 'post_until']\n",
    "df_merged = standardize_dates(df_merged,date_cols)"
   ]
  },
  {
   "cell_type": "code",
   "execution_count": null,
   "id": "4fd06150",
   "metadata": {},
   "outputs": [],
   "source": [
    "df_merged[['posting_date', 'post_until']]"
   ]
  },
  {
   "cell_type": "code",
   "execution_count": null,
   "id": "dd0d566d",
   "metadata": {},
   "outputs": [],
   "source": [
    "df_merged.info()"
   ]
  },
  {
   "cell_type": "code",
   "execution_count": null,
   "id": "e145bf36",
   "metadata": {},
   "outputs": [],
   "source": [
    "display(df_merged['business_title'])"
   ]
  },
  {
   "cell_type": "code",
   "execution_count": null,
   "id": "66aa97fe-6805-4229-b5c5-13abd3b1ec5f",
   "metadata": {},
   "outputs": [],
   "source": [
    "regex_pattern = r\"\\b(data analyst|data engineer|data analyst)\\w*\\b\"\n",
    "df_data_analyst = filter_by_regex_pattern(df_merged,'business_title', regex_pattern)"
   ]
  },
  {
   "cell_type": "code",
   "execution_count": null,
   "id": "b59d310a",
   "metadata": {},
   "outputs": [],
   "source": [
    "df_data_analyst.info()"
   ]
  },
  {
   "cell_type": "code",
   "execution_count": null,
   "id": "fe54a1ee",
   "metadata": {},
   "outputs": [],
   "source": [
    "display(pd.DataFrame({\n",
    "    \"non_nulls\": df_data_analyst.count(),\n",
    "    \"nulls\": df_data_analyst.isnull().sum(),\n",
    "    \"total\": len(df_data_analyst)\n",
    "}))"
   ]
  },
  {
   "cell_type": "code",
   "execution_count": null,
   "id": "1da4d18f-8453-489e-b766-e53b57bedd4f",
   "metadata": {},
   "outputs": [],
   "source": [
    "regex_pattern = r\"(sql|tableau|bi|phyton|eda|llm|ai|ml|pandas|numpy|agile)\"\n",
    "df_keywords = filter_by_regex_pattern(df_merged,'preferred_skills', regex_pattern)"
   ]
  },
  {
   "cell_type": "code",
   "execution_count": null,
   "id": "1549904d",
   "metadata": {},
   "outputs": [],
   "source": [
    "df_keywords.info()"
   ]
  },
  {
   "cell_type": "code",
   "execution_count": null,
   "id": "885174ab",
   "metadata": {},
   "outputs": [],
   "source": [
    "display(pd.DataFrame({\n",
    "    \"non_nulls\": df_keywords.count(),\n",
    "    \"nulls\": df_keywords.isnull().sum(),\n",
    "    \"total\": len(df_keywords)\n",
    "}))"
   ]
  },
  {
   "cell_type": "code",
   "execution_count": null,
   "id": "9873e427",
   "metadata": {},
   "outputs": [],
   "source": [
    "df_merged.to_csv(config['output_data']['file1'], index=False, sep=\",\", encoding=\"utf-8\")\n",
    "df_data_analyst.to_csv(config['output_data']['file2'], index=False, sep=\",\", encoding=\"utf-8\")\n",
    "df_keywords.to_csv(config['output_data']['file3'], index=False, sep=\",\", encoding=\"utf-8\")"
   ]
  }
 ],
 "metadata": {
  "kernelspec": {
   "display_name": "venv",
   "language": "python",
   "name": "venv"
  },
  "language_info": {
   "codemirror_mode": {
    "name": "ipython",
    "version": 3
   },
   "file_extension": ".py",
   "mimetype": "text/x-python",
   "name": "python",
   "nbconvert_exporter": "python",
   "pygments_lexer": "ipython3",
   "version": "3.13.5"
  }
 },
 "nbformat": 4,
 "nbformat_minor": 5
}
